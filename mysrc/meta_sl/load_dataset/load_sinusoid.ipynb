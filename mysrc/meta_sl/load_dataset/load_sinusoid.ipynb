{
 "cells": [
  {
   "cell_type": "code",
   "execution_count": 8,
   "id": "36198ea5",
   "metadata": {},
   "outputs": [],
   "source": [
    "import warnings\n",
    "from typing import Any, Dict, Tuple\n",
    "\n",
    "import torch\n",
    "import matplotlib.pyplot as plt\n",
    "from torchmeta.toy import Sinusoid\n",
    "from torchmeta.utils.data import BatchMetaDataLoader\n",
    "\n",
    "warnings.filterwarnings(action='ignore')"
   ]
  },
  {
   "cell_type": "code",
   "execution_count": 9,
   "id": "7daed3d6",
   "metadata": {},
   "outputs": [],
   "source": [
    "def get_dataloader(\n",
    "    config: Dict[str, Any]\n",
    ")->Tuple[BatchMetaDataLoader, BatchMetaDataLoader, BatchMetaDataLoader]:\n",
    "    train_dataset = Sinusoid(\n",
    "        num_samples_per_task=config[\"num_shots\"]*2,\n",
    "        num_tasks=config[\"num_batches_train\"]*config[\"batch_size\"],\n",
    "        noise_std=None\n",
    "    )\n",
    "    train_dataloader = BatchMetaDataLoader(train_dataset, batch_size=config[\"batch_size\"])\n",
    "    \n",
    "    \n",
    "    val_dataset = Sinusoid(\n",
    "        num_samples_per_task=config[\"num_shots\"]*2,\n",
    "        num_tasks=config[\"num_batches_val\"]*config[\"batch_size\"],\n",
    "        noise_std=None\n",
    "    )\n",
    "    val_dataloader = BatchMetaDataLoader(val_dataset, batch_size=config[\"batch_size\"])\n",
    "    \n",
    "    test_dataset = Sinusoid(\n",
    "        num_samples_per_task=config[\"num_shots\"]*2,\n",
    "        num_tasks=config[\"num_batches_test\"]*config[\"batch_size\"],\n",
    "        noise_std=None\n",
    "    )\n",
    "    test_dataloader = BatchMetaDataLoader(test_dataset, batch_size=config[\"batch_size\"])\n",
    "    \n",
    "    return train_dataloader, val_dataloader, test_dataloader"
   ]
  },
  {
   "cell_type": "code",
   "execution_count": 10,
   "id": "f5a7dd89",
   "metadata": {},
   "outputs": [],
   "source": [
    "config = {\n",
    "    \"num_shots\":5,\n",
    "    \"batch_size\":3,\n",
    "    \"num_batches_train\":6000,\n",
    "    \"num_batches_test\":2000,\n",
    "    \"num_batches_val\":100,\n",
    "    \"device\":\"cuda:0\"\n",
    "}\n",
    "\n",
    "train_dataloader, val_dataloader, test_dataloader = get_dataloader(config)"
   ]
  },
  {
   "cell_type": "code",
   "execution_count": 12,
   "id": "c585a1e7",
   "metadata": {},
   "outputs": [
    {
     "name": "stdout",
     "output_type": "stream",
     "text": [
      "support_x shape: torch.Size([3, 5, 1])\n",
      " support_y shape: torch.Size([3, 5, 1])\n",
      " query_x shape: torch.Size([3, 5, 1])\n",
      " query_y shape: torch.Size([3, 5, 1])\n",
      "\n"
     ]
    }
   ],
   "source": [
    "for batch_idx, batch in enumerate(val_dataloader):\n",
    "    xs, ys = batch\n",
    "    support_xs = xs[:,:config[\"num_shots\"],:].to(config[\"device\"]).type(torch.float)\n",
    "    support_ys = ys[:,:config[\"num_shots\"],:].to(config[\"device\"]).type(torch.float)\n",
    "    query_xs = xs[:,config[\"num_shots\"]:,:].to(config[\"device\"]).type(torch.float)\n",
    "    query_ys = ys[:,config[\"num_shots\"]:,:].to(config[\"device\"]).type(torch.float)\n",
    "    \n",
    "    print(\n",
    "        f\"support_x shape: {support_xs.shape}\\n\",\n",
    "        f\"support_y shape: {support_ys.shape}\\n\",\n",
    "        f\"query_x shape: {query_xs.shape}\\n\",\n",
    "        f\"query_y shape: {query_ys.shape}\\n\",\n",
    "    )\n",
    "    break"
   ]
  },
  {
   "cell_type": "code",
   "execution_count": null,
   "id": "5d54dcda",
   "metadata": {},
   "outputs": [],
   "source": []
  }
 ],
 "metadata": {
  "kernelspec": {
   "display_name": "meta",
   "language": "python",
   "name": "meta"
  },
  "language_info": {
   "codemirror_mode": {
    "name": "ipython",
    "version": 3
   },
   "file_extension": ".py",
   "mimetype": "text/x-python",
   "name": "python",
   "nbconvert_exporter": "python",
   "pygments_lexer": "ipython3",
   "version": "3.8.8"
  }
 },
 "nbformat": 4,
 "nbformat_minor": 5
}
